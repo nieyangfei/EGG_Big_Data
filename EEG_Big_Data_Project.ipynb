{
  "nbformat": 4,
  "nbformat_minor": 0,
  "metadata": {
    "colab": {
      "provenance": [],
      "authorship_tag": "ABX9TyMxsiPyZU/fsTZWpc1GYzHw",
      "include_colab_link": true
    },
    "kernelspec": {
      "name": "ir",
      "display_name": "R"
    },
    "language_info": {
      "name": "R"
    }
  },
  "cells": [
    {
      "cell_type": "markdown",
      "metadata": {
        "id": "view-in-github",
        "colab_type": "text"
      },
      "source": [
        "<a href=\"https://colab.research.google.com/github/nieyangfei/EGG_Big_Data/blob/main/EEG_Big_Data_Project.ipynb\" target=\"_parent\"><img src=\"https://colab.research.google.com/assets/colab-badge.svg\" alt=\"Open In Colab\"/></a>"
      ]
    },
    {
      "cell_type": "markdown",
      "source": [
        "# Introduction\n",
        "This is the project of Big Data and Machine Learning. This paper is about Electroencephalogram (EEG)-based emotion recognition. The code is proposed to do these procedure in sequnce.\n",
        "\n",
        "\n",
        "1.   Data Preparation. Doing this to know what the SEED-IV is like.\n",
        "2.   SVM classification. This model is easy, at least we can get the passed mark.\n",
        "3.   CNN classificaiton. This modle is hard, we can do it if time allows.\n",
        "4.   K Means. We are curious what if we use non labeled network?\n",
        "4.   Other morden networks. This is hard because we need to find the mordern and special networks. I do not think this is plausible.\n",
        "## Abbreviations\n",
        "PSD: Power Spectral Density.\n",
        "PCA: Principal Component Analysis.\n",
        "PSD: Power Spectral Density.\n",
        "DE: Differential Entropy.\n",
        "\n",
        "\n",
        "\n"
      ],
      "metadata": {
        "id": "sHpgG6LBoX-C"
      }
    },
    {
      "cell_type": "markdown",
      "source": [
        "# Data Preparation\n",
        "This will show how the data is.\n",
        "\n",
        "\n",
        "\n",
        "\n",
        "\n"
      ],
      "metadata": {
        "id": "klb5GWwFwBq3"
      }
    },
    {
      "cell_type": "markdown",
      "source": [
        "## File overview by heirachy\n",
        "1.   **eeg_feature_smooth**. The smooth data of EGG.\n",
        "Including three sessions, each session has 15 subjects, each subjects has 24 labled variables, each variable has information about 62 electrodes, several time windows, 5 frequency bands.\n",
        "2.   **eeg_raw_data**. Raw EGG data which has 1000 Hz sampling rate using the ESI NeuroScan System.\n",
        "3.   **eye_feature_smooth**. The smooth data of eye. The top features are same as eeg_feature_smooth, but the each variable consists of 12 features and several time windows.\n",
        "4.   **eye_raw_data**. Raw eye data which captured by SMI ETG eye-tracking glasses.\n",
        "5.   **Channel Order.xlsx**. The EGG electrod name and order in eeg_feature_smooth & eeg_raw_data.\n",
        "6.   **channel_62_pos**. The 62 EGG channels on the head location. The specific data and head location map does not show.\n",
        "7.   **ReadMe.txt**. Introduction of the dataset, including copyright, sample gender, label, reference and contact information.\n",
        "8.   **SEED-IV_stimulation.xlsx**. The video stimulation of the people, which contains video clip of three experiments.\n",
        "9.   **SEED-IV_subject_info.txt**. The subject gengder, including nine female and six male.\n",
        "\n",
        "In the Machine learning, this paper will only use eeg_feature_smooth, eye_feature_smooth, ReadMe.txt, Channel Order.xlsx as my input data. Other data in SEED_IV are kinds of middle data that do be used in this paper.\n",
        "\n",
        "The data is not huge and might currently the author is skeptical about the training result. Fistly, show the EGG and eye data into figures for initial analyze.\n",
        "\n",
        "As the origin paper says, DE has the best performance. So, this paper tackles with DE features first."
      ],
      "metadata": {
        "id": "HSQexXRb8D9v"
      }
    },
    {
      "cell_type": "code",
      "source": [
        "# remove all variables\n",
        "rm(list = ls())\n",
        "# optional, free memory\n",
        "gc()\n",
        "# Install\n",
        "if(!require(R.matlab)) install.packages(\"R.matlab\")\n",
        "if(!require(googledrive)) install.packages(\"googledrive\")\n",
        "if(!require(devtools)) install.packages(\"devtools\")\n",
        "\n",
        "# Library / Link\n",
        "library(R.matlab)\n",
        "library(googledrive)\n",
        "library(devtools)\n",
        "\n",
        "#Initialization\n",
        "drive_auth()\n"
      ],
      "metadata": {
        "colab": {
          "base_uri": "https://localhost:8080/",
          "height": 791
        },
        "id": "t6I6HqvEFUZU",
        "outputId": "2e1618f8-7ed2-408d-f741-ef5fe4a9cad2"
      },
      "execution_count": 1,
      "outputs": [
        {
          "output_type": "display_data",
          "data": {
            "text/html": [
              "<table class=\"dataframe\">\n",
              "<caption>A matrix: 2 × 6 of type dbl</caption>\n",
              "<thead>\n",
              "\t<tr><th></th><th scope=col>used</th><th scope=col>(Mb)</th><th scope=col>gc trigger</th><th scope=col>(Mb)</th><th scope=col>max used</th><th scope=col>(Mb)</th></tr>\n",
              "</thead>\n",
              "<tbody>\n",
              "\t<tr><th scope=row>Ncells</th><td> 657377</td><td>35.2</td><td>1454471</td><td>77.7</td><td>1348613</td><td>72.1</td></tr>\n",
              "\t<tr><th scope=row>Vcells</th><td>1221086</td><td> 9.4</td><td>8388608</td><td>64.0</td><td>1975128</td><td>15.1</td></tr>\n",
              "</tbody>\n",
              "</table>\n"
            ],
            "text/markdown": "\nA matrix: 2 × 6 of type dbl\n\n| <!--/--> | used | (Mb) | gc trigger | (Mb) | max used | (Mb) |\n|---|---|---|---|---|---|---|\n| Ncells |  657377 | 35.2 | 1454471 | 77.7 | 1348613 | 72.1 |\n| Vcells | 1221086 |  9.4 | 8388608 | 64.0 | 1975128 | 15.1 |\n\n",
            "text/latex": "A matrix: 2 × 6 of type dbl\n\\begin{tabular}{r|llllll}\n  & used & (Mb) & gc trigger & (Mb) & max used & (Mb)\\\\\n\\hline\n\tNcells &  657377 & 35.2 & 1454471 & 77.7 & 1348613 & 72.1\\\\\n\tVcells & 1221086 &  9.4 & 8388608 & 64.0 & 1975128 & 15.1\\\\\n\\end{tabular}\n",
            "text/plain": [
              "       used    (Mb) gc trigger (Mb) max used (Mb)\n",
              "Ncells  657377 35.2 1454471    77.7 1348613  72.1\n",
              "Vcells 1221086  9.4 8388608    64.0 1975128  15.1"
            ]
          },
          "metadata": {}
        },
        {
          "output_type": "stream",
          "name": "stderr",
          "text": [
            "Installing package into ‘/usr/local/lib/R/site-library’\n",
            "(as ‘lib’ is unspecified)\n",
            "\n",
            "also installing the dependencies ‘R.methodsS3’, ‘R.oo’, ‘R.utils’\n",
            "\n",
            "\n",
            "Installing package into ‘/usr/local/lib/R/site-library’\n",
            "(as ‘lib’ is unspecified)\n",
            "\n",
            "Installing package into ‘/usr/local/lib/R/site-library’\n",
            "(as ‘lib’ is unspecified)\n",
            "\n",
            "R.matlab v3.7.0 (2022-08-25 21:52:34 UTC) successfully loaded. See ?R.matlab for help.\n",
            "\n",
            "\n",
            "Attaching package: ‘R.matlab’\n",
            "\n",
            "\n",
            "The following objects are masked from ‘package:base’:\n",
            "\n",
            "    getOption, isOpen\n",
            "\n",
            "\n",
            "Loading required package: usethis\n",
            "\n",
            "\u001b[1m\u001b[22mIs it OK to cache OAuth access credentials in the folder \u001b[34m~/.cache/gargle\u001b[39m\n",
            "between R sessions?\n",
            "\u001b[1m1\u001b[22m: Yes\n",
            "\u001b[1m2\u001b[22m: No\n"
          ]
        },
        {
          "name": "stdout",
          "output_type": "stream",
          "text": [
            "Selection: Yes\n"
          ]
        },
        {
          "output_type": "stream",
          "name": "stderr",
          "text": [
            "\u001b[1m\u001b[22mEnter a number between 1 and 2, or enter 0 to exit.\n"
          ]
        },
        {
          "name": "stdout",
          "output_type": "stream",
          "text": [
            "Selection: 1\n"
          ]
        },
        {
          "output_type": "stream",
          "name": "stderr",
          "text": [
            "Please point your browser to the following url: \n",
            "\n",
            "https://accounts.google.com/o/oauth2/v2/auth?client_id=603366585132-frjlouoa3s2ono25d2l9ukvhlsrlnr7k.apps.googleusercontent.com&scope=https%3A%2F%2Fwww.googleapis.com%2Fauth%2Fdrive%20https%3A%2F%2Fwww.googleapis.com%2Fauth%2Fuserinfo.email&redirect_uri=https%3A%2F%2Fwww.tidyverse.org%2Fgoogle-callback%2F&response_type=code&state=a11d23da78bea13269868641220fff12&access_type=offline&prompt=consent\n",
            "\n"
          ]
        },
        {
          "name": "stdout",
          "output_type": "stream",
          "text": [
            "Enter authorization code: eyJjb2RlIjoiNC8wQVZHelIxQTAtUzR2YXhHbVllYTIzY3R2TXhhaUZDa3VFaE0yNVZsVDVHQ2xuTVYyRVYyZlh1MUpCUS00TkFqNlVrb21mZyIsInN0YXRlIjoiYTExZDIzZGE3OGJlYTEzMjY5ODY4NjQxMjIwZmZmMTIifQ==\n"
          ]
        }
      ]
    },
    {
      "cell_type": "code",
      "source": [
        "## I want to read and show EGG & eye data. To see how it is?\n",
        "\n",
        "\n",
        "# Read mat file\n",
        "EGG_sample_file_path_name <- \"Project_EGG_Big_Data/SEED_IV/eeg_feature_smooth/1/1_20160518.mat\"\n",
        "print(EGG_sample_file_path_name)\n",
        "# Find the file in my Google Drive and see it\n",
        "EGG_sample_file <- drive_get(EGG_sample_file_path_name)\n",
        "head(EGG_sample_file)\n",
        "drive_download(EGG_sample_file, path = \"1_20160518.mat\", overwrite = TRUE)\n",
        "sample <- readMat(\"1_20160518.mat\")\n",
        "\n",
        "names(sample)\n",
        "str(sample, max.level = 1)"
      ],
      "metadata": {
        "colab": {
          "base_uri": "https://localhost:8080/",
          "height": 1000
        },
        "id": "nrCTwEVsCdna",
        "outputId": "4a195fa2-95f8-4324-c525-ac998e2ee990"
      },
      "execution_count": 17,
      "outputs": [
        {
          "output_type": "stream",
          "name": "stdout",
          "text": [
            "[1] \"Project_EGG_Big_Data/SEED_IV/eeg_feature_smooth/1/1_20160518.mat\"\n"
          ]
        },
        {
          "output_type": "stream",
          "name": "stderr",
          "text": [
            "\u001b[32m✔\u001b[39m The input `path` resolved to exactly 1 file.\n",
            "\n"
          ]
        },
        {
          "output_type": "display_data",
          "data": {
            "text/html": [
              "<table class=\"dataframe\">\n",
              "<caption>A dribble: 1 × 4</caption>\n",
              "<thead>\n",
              "\t<tr><th scope=col>name</th><th scope=col>path</th><th scope=col>id</th><th scope=col>drive_resource</th><th scope=col>NA</th><th scope=col>NA</th><th scope=col>NA</th><th scope=col>NA</th><th scope=col>NA</th><th scope=col>NA</th><th scope=col>NA</th><th scope=col>NA</th><th scope=col>NA</th><th scope=col>NA</th><th scope=col>NA</th><th scope=col>NA</th><th scope=col>NA</th><th scope=col>NA</th><th scope=col>NA</th><th scope=col>NA</th><th scope=col>NA</th><th scope=col>NA</th><th scope=col>NA</th><th scope=col>NA</th><th scope=col>NA</th><th scope=col>NA</th><th scope=col>NA</th><th scope=col>NA</th><th scope=col>NA</th><th scope=col>NA</th><th scope=col>NA</th><th scope=col>NA</th><th scope=col>NA</th><th scope=col>NA</th><th scope=col>NA</th><th scope=col>NA</th><th scope=col>NA</th><th scope=col>NA</th><th scope=col>NA</th><th scope=col>NA</th><th scope=col>NA</th><th scope=col>NA</th><th scope=col>NA</th><th scope=col>NA</th><th scope=col>NA</th><th scope=col>NA</th><th scope=col>NA</th><th scope=col>NA</th><th scope=col>NA</th><th scope=col>NA</th><th scope=col>NA</th><th scope=col>NA</th><th scope=col>NA</th><th scope=col>NA</th><th scope=col>NA</th><th scope=col>NA</th><th scope=col>NA</th><th scope=col>NA</th><th scope=col>NA</th><th scope=col>NA</th><th scope=col>NA</th><th scope=col>NA</th><th scope=col>NA</th><th scope=col>NA</th><th scope=col>NA</th><th scope=col>NA</th><th scope=col>NA</th><th scope=col>NA</th><th scope=col>NA</th><th scope=col>NA</th><th scope=col>NA</th><th scope=col>NA</th><th scope=col>NA</th><th scope=col>NA</th><th scope=col>NA</th><th scope=col>NA</th><th scope=col>NA</th><th scope=col>NA</th><th scope=col>NA</th><th scope=col>NA</th><th scope=col>NA</th><th scope=col>NA</th><th scope=col>NA</th><th scope=col>NA</th><th scope=col>NA</th><th scope=col>NA</th><th scope=col>NA</th><th scope=col>NA</th><th scope=col>NA</th><th scope=col>NA</th><th scope=col>NA</th><th scope=col>NA</th><th scope=col>NA</th><th scope=col>NA</th><th scope=col>NA</th><th scope=col>NA</th><th scope=col>NA</th><th scope=col>NA</th><th scope=col>NA</th><th scope=col>NA</th><th scope=col>NA</th><th scope=col>NA</th><th scope=col>NA</th><th scope=col>NA</th><th scope=col>NA</th><th scope=col>NA</th><th scope=col>NA</th></tr>\n",
              "\t<tr><th scope=col>&lt;chr&gt;</th><th scope=col>&lt;chr&gt;</th><th scope=col>&lt;drv_id&gt;</th><th scope=col>&lt;list&gt;</th></tr>\n",
              "</thead>\n",
              "<tbody>\n",
              "\t<tr><td>1_20160518.mat</td><td>~/Project_EGG_Big_Data/SEED_IV/eeg_feature_smooth/1/1_20160518.mat</td><td>1yQ7zovei2PJzekEaBA0X1Omv3WH-ApVZ</td><td>1r64a1aynHlpqQyhkNh6w1dYVUVQOmpUv</td><td>yangfei nie</td><td>drive#user</td><td>TRUE</td><td>14809535534033574514</td><td>nieyangfeigo@gmail.com</td><td>https://lh3.googleusercontent.com/a/ACg8ocJKMO1KUsmmRkU5K0lfR9AuJOtYT3vo-EQNpzcsI4D7yQmHsrCZ=s64</td><td>yangfei nie</td><td>drive#user</td><td>TRUE</td><td>14809535534033574514</td><td>nieyangfeigo@gmail.com</td><td>https://lh3.googleusercontent.com/a/ACg8ocJKMO1KUsmmRkU5K0lfR9AuJOtYT3vo-EQNpzcsI4D7yQmHsrCZ=s64</td><td>drive#permission</td><td>anyoneWithLink</td><td>anyone</td><td>writer</td><td>FALSE</td><td>drive#permission</td><td>14809535534033574514</td><td>user</td><td>nieyangfeigo@gmail.com</td><td>owner</td><td>yangfei nie</td><td>https://lh3.googleusercontent.com/a/ACg8ocJKMO1KUsmmRkU5K0lfR9AuJOtYT3vo-EQNpzcsI4D7yQmHsrCZ=s64</td><td>FALSE</td><td>FALSE</td><td>drive</td><td>FALSE</td><td>FALSE</td><td>FALSE</td><td>TRUE</td><td>TRUE</td><td>FALSE</td><td>TRUE</td><td>TRUE</td><td>TRUE</td><td>TRUE</td><td>FALSE</td><td>TRUE</td><td>TRUE</td><td>TRUE</td><td>FALSE</td><td>TRUE</td><td>TRUE</td><td>TRUE</td><td>TRUE</td><td>FALSE</td><td>FALSE</td><td>TRUE</td><td>TRUE</td><td>TRUE</td><td>FALSE</td><td>TRUE</td><td>FALSE</td><td>FALSE</td><td>TRUE</td><td>TRUE</td><td>TRUE</td><td>TRUE</td><td>TRUE</td><td>anyoneWithLink</td><td>14809535534033574514</td><td>FALSE</td><td>TRUE</td><td>FALSE</td><td>FALSE</td><td>FALSE</td><td>FALSE</td><td>drive#file</td><td>1yQ7zovei2PJzekEaBA0X1Omv3WH-ApVZ</td><td>1_20160518.mat</td><td>application/octet-stream</td><td>FALSE</td><td>FALSE</td><td>FALSE</td><td>4</td><td>https://drive.google.com/uc?id=1yQ7zovei2PJzekEaBA0X1Omv3WH-ApVZ&amp;export=download</td><td>https://drive.google.com/file/d/1yQ7zovei2PJzekEaBA0X1Omv3WH-ApVZ/view?usp=drivesdk</td><td>https://drive-thirdparty.googleusercontent.com/16/type/application/octet-stream</td><td>FALSE</td><td>0</td><td>TRUE</td><td>2025-10-17T21:46:09.595Z</td><td>2025-10-17T21:46:09.595Z</td><td>2018-11-15T15:04:54.000Z</td><td>2018-11-15T15:04:54.000Z</td><td>TRUE</td><td>TRUE</td><td>TRUE</td><td>TRUE</td><td>FALSE</td><td>TRUE</td><td>1_20160518.mat</td><td>mat</td><td>mat</td><td>7861e59e376101c225e5d2cc72898d89</td><td>e8d98a4cf5e108a7f5760a3faa903bba12446e8d</td><td>0c65161c6b064276c855b1774e8a21d0e9ecf1162d1202a7c89dad9c30b19b70</td><td>7786107</td><td>7786107</td><td>0B1AUM7oqgWhbcW5XU0UyTEVUbnQ5aEpMR0ROYUorSEpvWmhJPQ</td><td>FALSE</td><td>FALSE</td></tr>\n",
              "</tbody>\n",
              "</table>\n"
            ],
            "text/markdown": "\nA dribble: 1 × 4\n\n| name &lt;chr&gt; | path &lt;chr&gt; | id &lt;drv_id&gt; | drive_resource &lt;list&gt; | NA &lt;chr&gt; | NA &lt;chr&gt; | NA &lt;drv_id&gt; | NA &lt;list&gt; | NA &lt;chr&gt; | NA &lt;chr&gt; | NA &lt;drv_id&gt; | NA &lt;list&gt; | NA &lt;chr&gt; | NA &lt;chr&gt; | NA &lt;drv_id&gt; | NA &lt;list&gt; | NA &lt;chr&gt; | NA &lt;chr&gt; | NA &lt;drv_id&gt; | NA &lt;list&gt; | NA &lt;chr&gt; | NA &lt;chr&gt; | NA &lt;drv_id&gt; | NA &lt;list&gt; | NA &lt;chr&gt; | NA &lt;chr&gt; | NA &lt;drv_id&gt; | NA &lt;list&gt; | NA &lt;chr&gt; | NA &lt;chr&gt; | NA &lt;drv_id&gt; | NA &lt;list&gt; | NA &lt;chr&gt; | NA &lt;chr&gt; | NA &lt;drv_id&gt; | NA &lt;list&gt; | NA &lt;chr&gt; | NA &lt;chr&gt; | NA &lt;drv_id&gt; | NA &lt;list&gt; | NA &lt;chr&gt; | NA &lt;chr&gt; | NA &lt;drv_id&gt; | NA &lt;list&gt; | NA &lt;chr&gt; | NA &lt;chr&gt; | NA &lt;drv_id&gt; | NA &lt;list&gt; | NA &lt;chr&gt; | NA &lt;chr&gt; | NA &lt;drv_id&gt; | NA &lt;list&gt; | NA &lt;chr&gt; | NA &lt;chr&gt; | NA &lt;drv_id&gt; | NA &lt;list&gt; | NA &lt;chr&gt; | NA &lt;chr&gt; | NA &lt;drv_id&gt; | NA &lt;list&gt; | NA &lt;chr&gt; | NA &lt;chr&gt; | NA &lt;drv_id&gt; | NA &lt;list&gt; | NA &lt;chr&gt; | NA &lt;chr&gt; | NA &lt;drv_id&gt; | NA &lt;list&gt; | NA &lt;chr&gt; | NA &lt;chr&gt; | NA &lt;drv_id&gt; | NA &lt;list&gt; | NA &lt;chr&gt; | NA &lt;chr&gt; | NA &lt;drv_id&gt; | NA &lt;list&gt; | NA &lt;chr&gt; | NA &lt;chr&gt; | NA &lt;drv_id&gt; | NA &lt;list&gt; | NA &lt;chr&gt; | NA &lt;chr&gt; | NA &lt;drv_id&gt; | NA &lt;list&gt; | NA &lt;chr&gt; | NA &lt;chr&gt; | NA &lt;drv_id&gt; | NA &lt;list&gt; | NA &lt;chr&gt; | NA &lt;chr&gt; | NA &lt;drv_id&gt; | NA &lt;list&gt; | NA &lt;chr&gt; | NA &lt;chr&gt; | NA &lt;drv_id&gt; | NA &lt;list&gt; | NA &lt;chr&gt; | NA &lt;chr&gt; | NA &lt;drv_id&gt; | NA &lt;list&gt; | NA &lt;chr&gt; | NA &lt;chr&gt; | NA &lt;drv_id&gt; | NA &lt;list&gt; | NA &lt;chr&gt; | NA &lt;chr&gt; | NA &lt;drv_id&gt; |\n|---|---|---|---|\n| 1_20160518.mat | ~/Project_EGG_Big_Data/SEED_IV/eeg_feature_smooth/1/1_20160518.mat | 1yQ7zovei2PJzekEaBA0X1Omv3WH-ApVZ | 1r64a1aynHlpqQyhkNh6w1dYVUVQOmpUv | yangfei nie | drive#user | TRUE | 14809535534033574514 | nieyangfeigo@gmail.com | https://lh3.googleusercontent.com/a/ACg8ocJKMO1KUsmmRkU5K0lfR9AuJOtYT3vo-EQNpzcsI4D7yQmHsrCZ=s64 | yangfei nie | drive#user | TRUE | 14809535534033574514 | nieyangfeigo@gmail.com | https://lh3.googleusercontent.com/a/ACg8ocJKMO1KUsmmRkU5K0lfR9AuJOtYT3vo-EQNpzcsI4D7yQmHsrCZ=s64 | drive#permission | anyoneWithLink | anyone | writer | FALSE | drive#permission | 14809535534033574514 | user | nieyangfeigo@gmail.com | owner | yangfei nie | https://lh3.googleusercontent.com/a/ACg8ocJKMO1KUsmmRkU5K0lfR9AuJOtYT3vo-EQNpzcsI4D7yQmHsrCZ=s64 | FALSE | FALSE | drive | FALSE | FALSE | FALSE | TRUE | TRUE | FALSE | TRUE | TRUE | TRUE | TRUE | FALSE | TRUE | TRUE | TRUE | FALSE | TRUE | TRUE | TRUE | TRUE | FALSE | FALSE | TRUE | TRUE | TRUE | FALSE | TRUE | FALSE | FALSE | TRUE | TRUE | TRUE | TRUE | TRUE | anyoneWithLink | 14809535534033574514 | FALSE | TRUE | FALSE | FALSE | FALSE | FALSE | drive#file | 1yQ7zovei2PJzekEaBA0X1Omv3WH-ApVZ | 1_20160518.mat | application/octet-stream | FALSE | FALSE | FALSE | 4 | https://drive.google.com/uc?id=1yQ7zovei2PJzekEaBA0X1Omv3WH-ApVZ&amp;export=download | https://drive.google.com/file/d/1yQ7zovei2PJzekEaBA0X1Omv3WH-ApVZ/view?usp=drivesdk | https://drive-thirdparty.googleusercontent.com/16/type/application/octet-stream | FALSE | 0 | TRUE | 2025-10-17T21:46:09.595Z | 2025-10-17T21:46:09.595Z | 2018-11-15T15:04:54.000Z | 2018-11-15T15:04:54.000Z | TRUE | TRUE | TRUE | TRUE | FALSE | TRUE | 1_20160518.mat | mat | mat | 7861e59e376101c225e5d2cc72898d89 | e8d98a4cf5e108a7f5760a3faa903bba12446e8d | 0c65161c6b064276c855b1774e8a21d0e9ecf1162d1202a7c89dad9c30b19b70 | 7786107 | 7786107 | 0B1AUM7oqgWhbcW5XU0UyTEVUbnQ5aEpMR0ROYUorSEpvWmhJPQ | FALSE | FALSE |\n\n",
            "text/latex": "A dribble: 1 × 4\n\\begin{tabular}{llll}\n name & path & id & drive\\_resource & NA & NA & NA & NA & NA & NA & NA & NA & NA & NA & NA & NA & NA & NA & NA & NA & NA & NA & NA & NA & NA & NA & NA & NA & NA & NA & NA & NA & NA & NA & NA & NA & NA & NA & NA & NA & NA & NA & NA & NA & NA & NA & NA & NA & NA & NA & NA & NA & NA & NA & NA & NA & NA & NA & NA & NA & NA & NA & NA & NA & NA & NA & NA & NA & NA & NA & NA & NA & NA & NA & NA & NA & NA & NA & NA & NA & NA & NA & NA & NA & NA & NA & NA & NA & NA & NA & NA & NA & NA & NA & NA & NA & NA & NA & NA & NA & NA & NA & NA & NA & NA & NA & NA\\\\\n <chr> & <chr> & <drv\\_id> & <list>\\\\\n\\hline\n\t 1\\_20160518.mat & \\textasciitilde{}/Project\\_EGG\\_Big\\_Data/SEED\\_IV/eeg\\_feature\\_smooth/1/1\\_20160518.mat & 1yQ7zovei2PJzekEaBA0X1Omv3WH-ApVZ & 1r64a1aynHlpqQyhkNh6w1dYVUVQOmpUv & yangfei nie & drive\\#user & TRUE & 14809535534033574514 & nieyangfeigo@gmail.com & https://lh3.googleusercontent.com/a/ACg8ocJKMO1KUsmmRkU5K0lfR9AuJOtYT3vo-EQNpzcsI4D7yQmHsrCZ=s64 & yangfei nie & drive\\#user & TRUE & 14809535534033574514 & nieyangfeigo@gmail.com & https://lh3.googleusercontent.com/a/ACg8ocJKMO1KUsmmRkU5K0lfR9AuJOtYT3vo-EQNpzcsI4D7yQmHsrCZ=s64 & drive\\#permission & anyoneWithLink & anyone & writer & FALSE & drive\\#permission & 14809535534033574514 & user & nieyangfeigo@gmail.com & owner & yangfei nie & https://lh3.googleusercontent.com/a/ACg8ocJKMO1KUsmmRkU5K0lfR9AuJOtYT3vo-EQNpzcsI4D7yQmHsrCZ=s64 & FALSE & FALSE & drive & FALSE & FALSE & FALSE & TRUE & TRUE & FALSE & TRUE & TRUE & TRUE & TRUE & FALSE & TRUE & TRUE & TRUE & FALSE & TRUE & TRUE & TRUE & TRUE & FALSE & FALSE & TRUE & TRUE & TRUE & FALSE & TRUE & FALSE & FALSE & TRUE & TRUE & TRUE & TRUE & TRUE & anyoneWithLink & 14809535534033574514 & FALSE & TRUE & FALSE & FALSE & FALSE & FALSE & drive\\#file & 1yQ7zovei2PJzekEaBA0X1Omv3WH-ApVZ & 1\\_20160518.mat & application/octet-stream & FALSE & FALSE & FALSE & 4 & https://drive.google.com/uc?id=1yQ7zovei2PJzekEaBA0X1Omv3WH-ApVZ\\&export=download & https://drive.google.com/file/d/1yQ7zovei2PJzekEaBA0X1Omv3WH-ApVZ/view?usp=drivesdk & https://drive-thirdparty.googleusercontent.com/16/type/application/octet-stream & FALSE & 0 & TRUE & 2025-10-17T21:46:09.595Z & 2025-10-17T21:46:09.595Z & 2018-11-15T15:04:54.000Z & 2018-11-15T15:04:54.000Z & TRUE & TRUE & TRUE & TRUE & FALSE & TRUE & 1\\_20160518.mat & mat & mat & 7861e59e376101c225e5d2cc72898d89 & e8d98a4cf5e108a7f5760a3faa903bba12446e8d & 0c65161c6b064276c855b1774e8a21d0e9ecf1162d1202a7c89dad9c30b19b70 & 7786107 & 7786107 & 0B1AUM7oqgWhbcW5XU0UyTEVUbnQ5aEpMR0ROYUorSEpvWmhJPQ & FALSE & FALSE\\\\\n\\end{tabular}\n",
            "text/plain": [
              "  name          \n",
              "1 1_20160518.mat\n",
              "  path                                                              \n",
              "1 ~/Project_EGG_Big_Data/SEED_IV/eeg_feature_smooth/1/1_20160518.mat\n",
              "  id                                drive_resource                   \n",
              "1 1yQ7zovei2PJzekEaBA0X1Omv3WH-ApVZ 1r64a1aynHlpqQyhkNh6w1dYVUVQOmpUv\n",
              "  <NA>        <NA>       <NA> <NA>                 <NA>                  \n",
              "1 yangfei nie drive#user TRUE 14809535534033574514 nieyangfeigo@gmail.com\n",
              "  <NA>                                                                                            \n",
              "1 https://lh3.googleusercontent.com/a/ACg8ocJKMO1KUsmmRkU5K0lfR9AuJOtYT3vo-EQNpzcsI4D7yQmHsrCZ=s64\n",
              "  <NA>        <NA>       <NA> <NA>                 <NA>                  \n",
              "1 yangfei nie drive#user TRUE 14809535534033574514 nieyangfeigo@gmail.com\n",
              "  <NA>                                                                                            \n",
              "1 https://lh3.googleusercontent.com/a/ACg8ocJKMO1KUsmmRkU5K0lfR9AuJOtYT3vo-EQNpzcsI4D7yQmHsrCZ=s64\n",
              "  <NA>             <NA>           <NA>   <NA>   <NA>  <NA>            \n",
              "1 drive#permission anyoneWithLink anyone writer FALSE drive#permission\n",
              "  <NA>                 <NA> <NA>                   <NA>  <NA>       \n",
              "1 14809535534033574514 user nieyangfeigo@gmail.com owner yangfei nie\n",
              "  <NA>                                                                                            \n",
              "1 https://lh3.googleusercontent.com/a/ACg8ocJKMO1KUsmmRkU5K0lfR9AuJOtYT3vo-EQNpzcsI4D7yQmHsrCZ=s64\n",
              "  <NA>  <NA>  <NA>  <NA>  <NA>  <NA>  <NA> <NA> <NA>  <NA> <NA> <NA> <NA> <NA> \n",
              "1 FALSE FALSE drive FALSE FALSE FALSE TRUE TRUE FALSE TRUE TRUE TRUE TRUE FALSE\n",
              "  <NA> <NA> <NA> <NA>  <NA> <NA> <NA> <NA> <NA>  <NA>  <NA> <NA> <NA> <NA> \n",
              "1 TRUE TRUE TRUE FALSE TRUE TRUE TRUE TRUE FALSE FALSE TRUE TRUE TRUE FALSE\n",
              "  <NA> <NA>  <NA>  <NA> <NA> <NA> <NA> <NA> <NA>           <NA>                \n",
              "1 TRUE FALSE FALSE TRUE TRUE TRUE TRUE TRUE anyoneWithLink 14809535534033574514\n",
              "  <NA>  <NA> <NA>  <NA>  <NA>  <NA>  <NA>      \n",
              "1 FALSE TRUE FALSE FALSE FALSE FALSE drive#file\n",
              "  <NA>                              <NA>           <NA>                    \n",
              "1 1yQ7zovei2PJzekEaBA0X1Omv3WH-ApVZ 1_20160518.mat application/octet-stream\n",
              "  <NA>  <NA>  <NA>  <NA>\n",
              "1 FALSE FALSE FALSE 4   \n",
              "  <NA>                                                                            \n",
              "1 https://drive.google.com/uc?id=1yQ7zovei2PJzekEaBA0X1Omv3WH-ApVZ&export=download\n",
              "  <NA>                                                                               \n",
              "1 https://drive.google.com/file/d/1yQ7zovei2PJzekEaBA0X1Omv3WH-ApVZ/view?usp=drivesdk\n",
              "  <NA>                                                                           \n",
              "1 https://drive-thirdparty.googleusercontent.com/16/type/application/octet-stream\n",
              "  <NA>  <NA> <NA> <NA>                     <NA>                    \n",
              "1 FALSE 0    TRUE 2025-10-17T21:46:09.595Z 2025-10-17T21:46:09.595Z\n",
              "  <NA>                     <NA>                     <NA> <NA> <NA> <NA> <NA> \n",
              "1 2018-11-15T15:04:54.000Z 2018-11-15T15:04:54.000Z TRUE TRUE TRUE TRUE FALSE\n",
              "  <NA> <NA>           <NA> <NA> <NA>                            \n",
              "1 TRUE 1_20160518.mat mat  mat  7861e59e376101c225e5d2cc72898d89\n",
              "  <NA>                                    \n",
              "1 e8d98a4cf5e108a7f5760a3faa903bba12446e8d\n",
              "  <NA>                                                             <NA>   \n",
              "1 0c65161c6b064276c855b1774e8a21d0e9ecf1162d1202a7c89dad9c30b19b70 7786107\n",
              "  <NA>    <NA>                                                <NA>  <NA> \n",
              "1 7786107 0B1AUM7oqgWhbcW5XU0UyTEVUbnQ5aEpMR0ROYUorSEpvWmhJPQ FALSE FALSE"
            ]
          },
          "metadata": {}
        },
        {
          "output_type": "stream",
          "name": "stderr",
          "text": [
            "File downloaded:\n",
            "\n",
            "• \u001b[36m1_20160518.mat\u001b[39m \u001b[90m<id: 1yQ7zovei2PJzekEaBA0X1Omv3WH-ApVZ>\u001b[39m\n",
            "\n",
            "Saved locally as:\n",
            "\n",
            "• \u001b[34m1_20160518.mat\u001b[39m\n",
            "\n"
          ]
        },
        {
          "output_type": "display_data",
          "data": {
            "text/html": [
              "<style>\n",
              ".list-inline {list-style: none; margin:0; padding: 0}\n",
              ".list-inline>li {display: inline-block}\n",
              ".list-inline>li:not(:last-child)::after {content: \"\\00b7\"; padding: 0 .5ex}\n",
              "</style>\n",
              "<ol class=list-inline><li>'de.movingAve1'</li><li>'de.LDS1'</li><li>'psd.movingAve1'</li><li>'psd.LDS1'</li><li>'de.movingAve2'</li><li>'de.LDS2'</li><li>'psd.movingAve2'</li><li>'psd.LDS2'</li><li>'de.movingAve3'</li><li>'de.LDS3'</li><li>'psd.movingAve3'</li><li>'psd.LDS3'</li><li>'de.movingAve4'</li><li>'de.LDS4'</li><li>'psd.movingAve4'</li><li>'psd.LDS4'</li><li>'de.movingAve5'</li><li>'de.LDS5'</li><li>'psd.movingAve5'</li><li>'psd.LDS5'</li><li>'de.movingAve6'</li><li>'de.LDS6'</li><li>'psd.movingAve6'</li><li>'psd.LDS6'</li><li>'de.movingAve7'</li><li>'de.LDS7'</li><li>'psd.movingAve7'</li><li>'psd.LDS7'</li><li>'de.movingAve8'</li><li>'de.LDS8'</li><li>'psd.movingAve8'</li><li>'psd.LDS8'</li><li>'de.movingAve9'</li><li>'de.LDS9'</li><li>'psd.movingAve9'</li><li>'psd.LDS9'</li><li>'de.movingAve10'</li><li>'de.LDS10'</li><li>'psd.movingAve10'</li><li>'psd.LDS10'</li><li>'de.movingAve11'</li><li>'de.LDS11'</li><li>'psd.movingAve11'</li><li>'psd.LDS11'</li><li>'de.movingAve12'</li><li>'de.LDS12'</li><li>'psd.movingAve12'</li><li>'psd.LDS12'</li><li>'de.movingAve13'</li><li>'de.LDS13'</li><li>'psd.movingAve13'</li><li>'psd.LDS13'</li><li>'de.movingAve14'</li><li>'de.LDS14'</li><li>'psd.movingAve14'</li><li>'psd.LDS14'</li><li>'de.movingAve15'</li><li>'de.LDS15'</li><li>'psd.movingAve15'</li><li>'psd.LDS15'</li><li>'de.movingAve16'</li><li>'de.LDS16'</li><li>'psd.movingAve16'</li><li>'psd.LDS16'</li><li>'de.movingAve17'</li><li>'de.LDS17'</li><li>'psd.movingAve17'</li><li>'psd.LDS17'</li><li>'de.movingAve18'</li><li>'de.LDS18'</li><li>'psd.movingAve18'</li><li>'psd.LDS18'</li><li>'de.movingAve19'</li><li>'de.LDS19'</li><li>'psd.movingAve19'</li><li>'psd.LDS19'</li><li>'de.movingAve20'</li><li>'de.LDS20'</li><li>'psd.movingAve20'</li><li>'psd.LDS20'</li><li>'de.movingAve21'</li><li>'de.LDS21'</li><li>'psd.movingAve21'</li><li>'psd.LDS21'</li><li>'de.movingAve22'</li><li>'de.LDS22'</li><li>'psd.movingAve22'</li><li>'psd.LDS22'</li><li>'de.movingAve23'</li><li>'de.LDS23'</li><li>'psd.movingAve23'</li><li>'psd.LDS23'</li><li>'de.movingAve24'</li><li>'de.LDS24'</li><li>'psd.movingAve24'</li><li>'psd.LDS24'</li></ol>\n"
            ],
            "text/markdown": "1. 'de.movingAve1'\n2. 'de.LDS1'\n3. 'psd.movingAve1'\n4. 'psd.LDS1'\n5. 'de.movingAve2'\n6. 'de.LDS2'\n7. 'psd.movingAve2'\n8. 'psd.LDS2'\n9. 'de.movingAve3'\n10. 'de.LDS3'\n11. 'psd.movingAve3'\n12. 'psd.LDS3'\n13. 'de.movingAve4'\n14. 'de.LDS4'\n15. 'psd.movingAve4'\n16. 'psd.LDS4'\n17. 'de.movingAve5'\n18. 'de.LDS5'\n19. 'psd.movingAve5'\n20. 'psd.LDS5'\n21. 'de.movingAve6'\n22. 'de.LDS6'\n23. 'psd.movingAve6'\n24. 'psd.LDS6'\n25. 'de.movingAve7'\n26. 'de.LDS7'\n27. 'psd.movingAve7'\n28. 'psd.LDS7'\n29. 'de.movingAve8'\n30. 'de.LDS8'\n31. 'psd.movingAve8'\n32. 'psd.LDS8'\n33. 'de.movingAve9'\n34. 'de.LDS9'\n35. 'psd.movingAve9'\n36. 'psd.LDS9'\n37. 'de.movingAve10'\n38. 'de.LDS10'\n39. 'psd.movingAve10'\n40. 'psd.LDS10'\n41. 'de.movingAve11'\n42. 'de.LDS11'\n43. 'psd.movingAve11'\n44. 'psd.LDS11'\n45. 'de.movingAve12'\n46. 'de.LDS12'\n47. 'psd.movingAve12'\n48. 'psd.LDS12'\n49. 'de.movingAve13'\n50. 'de.LDS13'\n51. 'psd.movingAve13'\n52. 'psd.LDS13'\n53. 'de.movingAve14'\n54. 'de.LDS14'\n55. 'psd.movingAve14'\n56. 'psd.LDS14'\n57. 'de.movingAve15'\n58. 'de.LDS15'\n59. 'psd.movingAve15'\n60. 'psd.LDS15'\n61. 'de.movingAve16'\n62. 'de.LDS16'\n63. 'psd.movingAve16'\n64. 'psd.LDS16'\n65. 'de.movingAve17'\n66. 'de.LDS17'\n67. 'psd.movingAve17'\n68. 'psd.LDS17'\n69. 'de.movingAve18'\n70. 'de.LDS18'\n71. 'psd.movingAve18'\n72. 'psd.LDS18'\n73. 'de.movingAve19'\n74. 'de.LDS19'\n75. 'psd.movingAve19'\n76. 'psd.LDS19'\n77. 'de.movingAve20'\n78. 'de.LDS20'\n79. 'psd.movingAve20'\n80. 'psd.LDS20'\n81. 'de.movingAve21'\n82. 'de.LDS21'\n83. 'psd.movingAve21'\n84. 'psd.LDS21'\n85. 'de.movingAve22'\n86. 'de.LDS22'\n87. 'psd.movingAve22'\n88. 'psd.LDS22'\n89. 'de.movingAve23'\n90. 'de.LDS23'\n91. 'psd.movingAve23'\n92. 'psd.LDS23'\n93. 'de.movingAve24'\n94. 'de.LDS24'\n95. 'psd.movingAve24'\n96. 'psd.LDS24'\n\n\n",
            "text/latex": "\\begin{enumerate*}\n\\item 'de.movingAve1'\n\\item 'de.LDS1'\n\\item 'psd.movingAve1'\n\\item 'psd.LDS1'\n\\item 'de.movingAve2'\n\\item 'de.LDS2'\n\\item 'psd.movingAve2'\n\\item 'psd.LDS2'\n\\item 'de.movingAve3'\n\\item 'de.LDS3'\n\\item 'psd.movingAve3'\n\\item 'psd.LDS3'\n\\item 'de.movingAve4'\n\\item 'de.LDS4'\n\\item 'psd.movingAve4'\n\\item 'psd.LDS4'\n\\item 'de.movingAve5'\n\\item 'de.LDS5'\n\\item 'psd.movingAve5'\n\\item 'psd.LDS5'\n\\item 'de.movingAve6'\n\\item 'de.LDS6'\n\\item 'psd.movingAve6'\n\\item 'psd.LDS6'\n\\item 'de.movingAve7'\n\\item 'de.LDS7'\n\\item 'psd.movingAve7'\n\\item 'psd.LDS7'\n\\item 'de.movingAve8'\n\\item 'de.LDS8'\n\\item 'psd.movingAve8'\n\\item 'psd.LDS8'\n\\item 'de.movingAve9'\n\\item 'de.LDS9'\n\\item 'psd.movingAve9'\n\\item 'psd.LDS9'\n\\item 'de.movingAve10'\n\\item 'de.LDS10'\n\\item 'psd.movingAve10'\n\\item 'psd.LDS10'\n\\item 'de.movingAve11'\n\\item 'de.LDS11'\n\\item 'psd.movingAve11'\n\\item 'psd.LDS11'\n\\item 'de.movingAve12'\n\\item 'de.LDS12'\n\\item 'psd.movingAve12'\n\\item 'psd.LDS12'\n\\item 'de.movingAve13'\n\\item 'de.LDS13'\n\\item 'psd.movingAve13'\n\\item 'psd.LDS13'\n\\item 'de.movingAve14'\n\\item 'de.LDS14'\n\\item 'psd.movingAve14'\n\\item 'psd.LDS14'\n\\item 'de.movingAve15'\n\\item 'de.LDS15'\n\\item 'psd.movingAve15'\n\\item 'psd.LDS15'\n\\item 'de.movingAve16'\n\\item 'de.LDS16'\n\\item 'psd.movingAve16'\n\\item 'psd.LDS16'\n\\item 'de.movingAve17'\n\\item 'de.LDS17'\n\\item 'psd.movingAve17'\n\\item 'psd.LDS17'\n\\item 'de.movingAve18'\n\\item 'de.LDS18'\n\\item 'psd.movingAve18'\n\\item 'psd.LDS18'\n\\item 'de.movingAve19'\n\\item 'de.LDS19'\n\\item 'psd.movingAve19'\n\\item 'psd.LDS19'\n\\item 'de.movingAve20'\n\\item 'de.LDS20'\n\\item 'psd.movingAve20'\n\\item 'psd.LDS20'\n\\item 'de.movingAve21'\n\\item 'de.LDS21'\n\\item 'psd.movingAve21'\n\\item 'psd.LDS21'\n\\item 'de.movingAve22'\n\\item 'de.LDS22'\n\\item 'psd.movingAve22'\n\\item 'psd.LDS22'\n\\item 'de.movingAve23'\n\\item 'de.LDS23'\n\\item 'psd.movingAve23'\n\\item 'psd.LDS23'\n\\item 'de.movingAve24'\n\\item 'de.LDS24'\n\\item 'psd.movingAve24'\n\\item 'psd.LDS24'\n\\end{enumerate*}\n",
            "text/plain": [
              " [1] \"de.movingAve1\"   \"de.LDS1\"         \"psd.movingAve1\"  \"psd.LDS1\"       \n",
              " [5] \"de.movingAve2\"   \"de.LDS2\"         \"psd.movingAve2\"  \"psd.LDS2\"       \n",
              " [9] \"de.movingAve3\"   \"de.LDS3\"         \"psd.movingAve3\"  \"psd.LDS3\"       \n",
              "[13] \"de.movingAve4\"   \"de.LDS4\"         \"psd.movingAve4\"  \"psd.LDS4\"       \n",
              "[17] \"de.movingAve5\"   \"de.LDS5\"         \"psd.movingAve5\"  \"psd.LDS5\"       \n",
              "[21] \"de.movingAve6\"   \"de.LDS6\"         \"psd.movingAve6\"  \"psd.LDS6\"       \n",
              "[25] \"de.movingAve7\"   \"de.LDS7\"         \"psd.movingAve7\"  \"psd.LDS7\"       \n",
              "[29] \"de.movingAve8\"   \"de.LDS8\"         \"psd.movingAve8\"  \"psd.LDS8\"       \n",
              "[33] \"de.movingAve9\"   \"de.LDS9\"         \"psd.movingAve9\"  \"psd.LDS9\"       \n",
              "[37] \"de.movingAve10\"  \"de.LDS10\"        \"psd.movingAve10\" \"psd.LDS10\"      \n",
              "[41] \"de.movingAve11\"  \"de.LDS11\"        \"psd.movingAve11\" \"psd.LDS11\"      \n",
              "[45] \"de.movingAve12\"  \"de.LDS12\"        \"psd.movingAve12\" \"psd.LDS12\"      \n",
              "[49] \"de.movingAve13\"  \"de.LDS13\"        \"psd.movingAve13\" \"psd.LDS13\"      \n",
              "[53] \"de.movingAve14\"  \"de.LDS14\"        \"psd.movingAve14\" \"psd.LDS14\"      \n",
              "[57] \"de.movingAve15\"  \"de.LDS15\"        \"psd.movingAve15\" \"psd.LDS15\"      \n",
              "[61] \"de.movingAve16\"  \"de.LDS16\"        \"psd.movingAve16\" \"psd.LDS16\"      \n",
              "[65] \"de.movingAve17\"  \"de.LDS17\"        \"psd.movingAve17\" \"psd.LDS17\"      \n",
              "[69] \"de.movingAve18\"  \"de.LDS18\"        \"psd.movingAve18\" \"psd.LDS18\"      \n",
              "[73] \"de.movingAve19\"  \"de.LDS19\"        \"psd.movingAve19\" \"psd.LDS19\"      \n",
              "[77] \"de.movingAve20\"  \"de.LDS20\"        \"psd.movingAve20\" \"psd.LDS20\"      \n",
              "[81] \"de.movingAve21\"  \"de.LDS21\"        \"psd.movingAve21\" \"psd.LDS21\"      \n",
              "[85] \"de.movingAve22\"  \"de.LDS22\"        \"psd.movingAve22\" \"psd.LDS22\"      \n",
              "[89] \"de.movingAve23\"  \"de.LDS23\"        \"psd.movingAve23\" \"psd.LDS23\"      \n",
              "[93] \"de.movingAve24\"  \"de.LDS24\"        \"psd.movingAve24\" \"psd.LDS24\"      "
            ]
          },
          "metadata": {}
        },
        {
          "output_type": "stream",
          "name": "stdout",
          "text": [
            "List of 96\n",
            " $ de.movingAve1  : num [1:62, 1:42, 1:5] 27.8 27.5 27.3 25.5 26 ...\n",
            " $ de.LDS1        : num [1:62, 1:42, 1:5] 27.8 27.7 27.7 25.8 26.4 ...\n",
            " $ psd.movingAve1 : num [1:62, 1:42, 1:5] 2290388 1856990 1632921 470848 657323 ...\n",
            " $ psd.LDS1       : num [1:62, 1:42, 1:5] 3681094 3686479 3803950 704492 1351121 ...\n",
            " $ de.movingAve2  : num [1:62, 1:23, 1:5] 28.4 28.9 29.5 24.7 28 ...\n",
            " $ de.LDS2        : num [1:62, 1:23, 1:5] 27.5 27.5 27.5 25.5 26.3 ...\n",
            " $ psd.movingAve2 : num [1:62, 1:23, 1:5] 3484802 4919637 7490408 268238 2755670 ...\n",
            " $ psd.LDS2       : num [1:62, 1:23, 1:5] 3060987 3149514 3358880 569985 1167556 ...\n",
            " $ de.movingAve3  : num [1:62, 1:49, 1:5] 25.9 25.5 25.6 24.4 24.8 ...\n",
            " $ de.LDS3        : num [1:62, 1:49, 1:5] 26.9 26.8 27 25 25.8 ...\n",
            " $ psd.movingAve3 : num [1:62, 1:49, 1:5] 615979 480092 505094 214685 292293 ...\n",
            " $ psd.LDS3       : num [1:62, 1:49, 1:5] 6632545 2310361 3243511 421940 907015 ...\n",
            " $ de.movingAve4  : num [1:62, 1:32, 1:5] 26.4 27.1 27.9 24.8 26.8 ...\n",
            " $ de.LDS4        : num [1:62, 1:32, 1:5] 27.4 27.4 27.8 25.6 26.6 ...\n",
            " $ psd.movingAve4 : num [1:62, 1:32, 1:5] 873994 1455819 2470432 299830 1155533 ...\n",
            " $ psd.LDS4       : num [1:62, 1:32, 1:5] 3808653 3948792 4344777 766829 1584871 ...\n",
            " $ de.movingAve5  : num [1:62, 1:22, 1:5] 25.9 25.9 25.6 25 24.8 ...\n",
            " $ de.LDS5        : num [1:62, 1:22, 1:5] 28 27.8 27.9 26.2 26.7 ...\n",
            " $ psd.movingAve5 : num [1:62, 1:22, 1:5] 639118 605060 514448 340526 282304 ...\n",
            " $ psd.LDS5       : num [1:62, 1:22, 1:5] 8984828 8961372 10080101 2874502 4959982 ...\n",
            " $ de.movingAve6  : num [1:62, 1:40, 1:5] 29.5 29.5 29.6 27.1 28.3 ...\n",
            " $ de.LDS6        : num [1:62, 1:40, 1:5] 27.6 27.5 27.7 25.6 26.4 ...\n",
            " $ psd.movingAve6 : num [1:62, 1:40, 1:5] 7355305 7717892 8188469 1407500 3231623 ...\n",
            " $ psd.LDS6       : num [1:62, 1:40, 1:5] 3360646 3397664 3843819 699879 1364206 ...\n",
            " $ de.movingAve7  : num [1:62, 1:38, 1:5] 28.1 28 27.8 25.4 26.3 ...\n",
            " $ de.LDS7        : num [1:62, 1:38, 1:5] 27.3 27.3 27.6 25.5 26.4 ...\n",
            " $ psd.movingAve7 : num [1:62, 1:38, 1:5] 2838724 2664836 2317904 455627 820372 ...\n",
            " $ psd.LDS7       : num [1:62, 1:38, 1:5] 3703851 3570427 3678224 823551 1346384 ...\n",
            " $ de.movingAve8  : num [1:62, 1:52, 1:5] 26.4 25.9 26.4 25.5 25.7 ...\n",
            " $ de.LDS8        : num [1:62, 1:52, 1:5] 27.5 27.4 27.6 25.6 26.3 ...\n",
            " $ psd.movingAve8 : num [1:62, 1:52, 1:5] 897600 605832 875199 486067 528724 ...\n",
            " $ psd.LDS8       : num [1:62, 1:52, 1:5] 4141543 2952876 3800868 658605 1147854 ...\n",
            " $ de.movingAve9  : num [1:62, 1:36, 1:5] 28 28.6 29.6 26.3 28.5 ...\n",
            " $ de.LDS9        : num [1:62, 1:36, 1:5] 27.9 27.8 28 26 26.7 ...\n",
            " $ psd.movingAve9 : num [1:62, 1:36, 1:5] 2613079 4112326 8301827 835650 3903570 ...\n",
            " $ psd.LDS9       : num [1:62, 1:36, 1:5] 4041474 3989772 4395493 835594 1567269 ...\n",
            " $ de.movingAve10 : num [1:62, 1:42, 1:5] 29 29.7 30.2 26 28.6 ...\n",
            " $ de.LDS10       : num [1:62, 1:42, 1:5] 28.5 28.5 28.6 26.3 27.2 ...\n",
            " $ psd.movingAve10: num [1:62, 1:42, 1:5] 5320280 8907040 12592577 666907 4198525 ...\n",
            " $ psd.LDS10      : num [1:62, 1:42, 1:5] 5623119 5727765 6480481 1138424 2277518 ...\n",
            " $ de.movingAve11 : num [1:62, 1:12, 1:5] 28.2 28.4 28.5 26.2 27.3 ...\n",
            " $ de.LDS11       : num [1:62, 1:12, 1:5] 26.5 26.3 26.5 25.1 25.6 ...\n",
            " $ psd.movingAve11: num [1:62, 1:12, 1:5] 2993901 3487264 3687594 781382 1677387 ...\n",
            " $ psd.LDS11      : num [1:62, 1:12, 1:5] 1365189 1381340 1490315 395829 661147 ...\n",
            " $ de.movingAve12 : num [1:62, 1:27, 1:5] 24.5 24.4 24.5 24.2 24.3 ...\n",
            " $ de.LDS12       : num [1:62, 1:27, 1:5] 26.5 26.3 26.4 24.9 25.3 ...\n",
            " $ psd.movingAve12: num [1:62, 1:27, 1:5] 243502 219883 233236 192216 202833 ...\n",
            " $ psd.LDS12      : num [1:62, 1:27, 1:5] 1510745 1516729 1598309 383733 596333 ...\n",
            " $ de.movingAve13 : num [1:62, 1:54, 1:5] 30.7 29.4 29.3 26.7 27.6 ...\n",
            " $ de.LDS13       : num [1:62, 1:54, 1:5] 28.2 28.2 28.2 26 26.8 ...\n",
            " $ psd.movingAve13: num [1:62, 1:54, 1:5] 17083721 7090764 6424034 1082546 2031756 ...\n",
            " $ psd.LDS13      : num [1:62, 1:54, 1:5] 5171038 4755266 4722660 893190 1591461 ...\n",
            " $ de.movingAve14 : num [1:62, 1:42, 1:5] 27 25.8 24.9 25.8 24.4 ...\n",
            " $ de.LDS14       : num [1:62, 1:42, 1:5] 28 27.8 27.7 26.1 26.5 ...\n",
            " $ psd.movingAve14: num [1:62, 1:42, 1:5] 1370832 582654 316666 569640 220102 ...\n",
            " $ psd.LDS14      : num [1:62, 1:42, 1:5] 5639814 5816368 5667895 1122930 1944078 ...\n",
            " $ de.movingAve15 : num [1:62, 1:64, 1:5] 28.3 28.2 28.2 26.1 26.8 ...\n",
            " $ de.LDS15       : num [1:62, 1:64, 1:5] 27.7 27.5 27.7 25.5 26.3 ...\n",
            " $ psd.movingAve15: num [1:62, 1:64, 1:5] 3370521 3152957 3057120 741331 1130206 ...\n",
            " $ psd.LDS15      : num [1:62, 1:64, 1:5] 3007622 2814794 3061157 597531 1036834 ...\n",
            " $ de.movingAve16 : num [1:62, 1:35, 1:5] 25.4 24.8 24.3 24.3 23.8 ...\n",
            " $ de.LDS16       : num [1:62, 1:35, 1:5] 27.1 26.9 26.9 25.3 25.9 ...\n",
            " $ psd.movingAve16: num [1:62, 1:35, 1:5] 455704 288909 201110 207826 144713 ...\n",
            " $ psd.LDS16      : num [1:62, 1:35, 1:5] 2696647 2859514 3036261 565730 1085945 ...\n",
            " $ de.movingAve17 : num [1:62, 1:17, 1:5] 28.4 28.6 28.7 26.1 27.2 ...\n",
            " $ de.LDS17       : num [1:62, 1:17, 1:5] 27.1 27 27 25.2 25.9 ...\n",
            " $ psd.movingAve17: num [1:62, 1:17, 1:5] 3567243 4082016 4330782 725470 1580790 ...\n",
            " $ psd.LDS17      : num [1:62, 1:17, 1:5] 2129325 2077923 2128524 483869 806007 ...\n",
            " $ de.movingAve18 : num [1:62, 1:44, 1:5] 25.3 25 24.6 24.1 24.1 ...\n",
            " $ de.LDS18       : num [1:62, 1:44, 1:5] 26.7 26.5 26.6 25.2 25.5 ...\n",
            " $ psd.movingAve18: num [1:62, 1:44, 1:5] 413997 336756 259194 174710 184280 ...\n",
            " $ psd.LDS18      : num [1:62, 1:44, 1:5] 2154898 1793910 1796763 915789 782913 ...\n",
            " $ de.movingAve19 : num [1:62, 1:35, 1:5] 26.2 26.4 26.8 24.5 25.1 ...\n",
            " $ de.LDS19       : num [1:62, 1:35, 1:5] 27.1 27.1 27.2 25.3 26 ...\n",
            " $ psd.movingAve19: num [1:62, 1:35, 1:5] 768993 878291 1142030 237134 368997 ...\n",
            " $ psd.LDS19      : num [1:62, 1:35, 1:5] 2771549 2755105 2913429 581520 1024582 ...\n",
            " $ de.movingAve20 : num [1:62, 1:12, 1:5] 28.9 28.7 28.6 25.9 26.8 ...\n",
            " $ de.LDS20       : num [1:62, 1:12, 1:5] 26.1 26 26 24.7 25 ...\n",
            " $ psd.movingAve20: num [1:62, 1:12, 1:5] 5018637 4500581 4124041 640309 1184032 ...\n",
            " $ psd.LDS20      : num [1:62, 1:12, 1:5] 1817040 1534908 1339610 427498 486557 ...\n",
            " $ de.movingAve21 : num [1:62, 1:28, 1:5] 29.6 29.3 29.1 27.4 27.3 ...\n",
            " $ de.LDS21       : num [1:62, 1:28, 1:5] 27.4 27.3 27.4 25.5 26.1 ...\n",
            " $ psd.movingAve21: num [1:62, 1:28, 1:5] 7943244 6724608 5722096 1724184 1688790 ...\n",
            " $ psd.LDS21      : num [1:62, 1:28, 1:5] 2350064 2294832 2518190 570044 948427 ...\n",
            " $ de.movingAve22 : num [1:62, 1:28, 1:5] 26.7 25.9 27.5 26.5 26.2 ...\n",
            " $ de.LDS22       : num [1:62, 1:28, 1:5] 27.2 26.6 27.2 25.9 26 ...\n",
            " $ psd.movingAve22: num [1:62, 1:28, 1:5] 1070071 617016 1907749 923373 779676 ...\n",
            " $ psd.LDS22      : num [1:62, 1:28, 1:5] 1987783 1497308 1951084 737231 812083 ...\n",
            " $ de.movingAve23 : num [1:62, 1:43, 1:5] 28.4 27.9 27.9 26.5 26.3 ...\n",
            " $ de.LDS23       : num [1:62, 1:43, 1:5] 27.7 27.4 27.6 25.9 26.3 ...\n",
            " $ psd.movingAve23: num [1:62, 1:43, 1:5] 3471158 2585799 2570248 940039 837415 ...\n",
            " $ psd.LDS23      : num [1:62, 1:43, 1:5] 3734348 3473261 3735727 850079 1221126 ...\n",
            " $ de.movingAve24 : num [1:62, 1:34, 1:5] 27.5 27.4 27 26.8 26.5 ...\n",
            " $ de.LDS24       : num [1:62, 1:34, 1:5] 27.6 27.4 27.4 25.9 26.1 ...\n",
            " $ psd.movingAve24: num [1:62, 1:34, 1:5] 1884098 1805412 1325060 1184080 968275 ...\n",
            " $ psd.LDS24      : num [1:62, 1:34, 1:5] 16038477 14751283 14617529 15186322 14440673 ...\n",
            " - attr(*, \"header\")=List of 3\n"
          ]
        }
      ]
    },
    {
      "cell_type": "code",
      "source": [],
      "metadata": {
        "id": "0YEgqNq7GpwG"
      },
      "execution_count": 3,
      "outputs": []
    }
  ]
}