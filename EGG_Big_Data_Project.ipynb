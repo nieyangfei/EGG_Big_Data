{
  "nbformat": 4,
  "nbformat_minor": 0,
  "metadata": {
    "colab": {
      "provenance": [],
      "authorship_tag": "ABX9TyP69u8U3ta9l1rC/vR3EMxx",
      "include_colab_link": true
    },
    "kernelspec": {
      "name": "ir",
      "display_name": "R"
    },
    "language_info": {
      "name": "R"
    }
  },
  "cells": [
    {
      "cell_type": "markdown",
      "metadata": {
        "id": "view-in-github",
        "colab_type": "text"
      },
      "source": [
        "<a href=\"https://colab.research.google.com/github/nieyangfei/EGG_Big_Data/blob/main/EGG_Big_Data_Project.ipynb\" target=\"_parent\"><img src=\"https://colab.research.google.com/assets/colab-badge.svg\" alt=\"Open In Colab\"/></a>"
      ]
    },
    {
      "cell_type": "markdown",
      "source": [
        "# Introduction\n",
        "This is the project of Big Data and Machine Learning. I will do Electroencephalogram (EEG)-based emotion recognition. The code is proposed to do these procedure in sequnce.\n",
        "\n",
        "\n",
        "1.   Data Preparation. Doing this to know what the SEED-IV is like.\n",
        "2.   SVM classification. This model is easy, at least we can get the passed mark.\n",
        "3.   CNN classificaiton. This modle is hard, we can do it if time allows.\n",
        "4.   K Means. We are curious what if we use non labeled network?\n",
        "4.   Other morden networks. This is hard because we need to find the mordern and special networks. I do not think this is plausible.\n",
        "\n",
        "\n",
        "\n"
      ],
      "metadata": {
        "id": "sHpgG6LBoX-C"
      }
    },
    {
      "cell_type": "code",
      "source": [
        "# Data Preparation\n",
        "\"I will show how the data is.\""
      ],
      "metadata": {
        "colab": {
          "base_uri": "https://localhost:8080/",
          "height": 34
        },
        "id": "iUVJ5ElIqlDa",
        "outputId": "3937d738-b358-4b10-fa16-28b969584128"
      },
      "execution_count": null,
      "outputs": [
        {
          "output_type": "display_data",
          "data": {
            "text/html": [
              "'I will show how the data is.'"
            ],
            "text/markdown": "'I will show how the data is.'",
            "text/latex": "'I will show how the data is.'",
            "text/plain": [
              "[1] \"I will show how the data is.\""
            ]
          },
          "metadata": {}
        }
      ]
    }
  ]
}