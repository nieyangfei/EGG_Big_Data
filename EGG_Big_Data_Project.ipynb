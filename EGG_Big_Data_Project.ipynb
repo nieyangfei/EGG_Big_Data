{
  "nbformat": 4,
  "nbformat_minor": 0,
  "metadata": {
    "colab": {
      "provenance": [],
      "toc_visible": true,
      "authorship_tag": "ABX9TyM5240o2n1dSJXz3zJVE9cV",
      "include_colab_link": true
    },
    "kernelspec": {
      "name": "ir",
      "display_name": "R"
    },
    "language_info": {
      "name": "R"
    }
  },
  "cells": [
    {
      "cell_type": "markdown",
      "metadata": {
        "id": "view-in-github",
        "colab_type": "text"
      },
      "source": [
        "<a href=\"https://colab.research.google.com/github/nieyangfei/EGG_Big_Data/blob/main/EGG_Big_Data_Project.ipynb\" target=\"_parent\"><img src=\"https://colab.research.google.com/assets/colab-badge.svg\" alt=\"Open In Colab\"/></a>"
      ]
    },
    {
      "cell_type": "markdown",
      "source": [
        "# Introduction\n",
        "This is the project of Big Data and Machine Learning. I will do Electroencephalogram (EEG)-based emotion recognition. The code is proposed to do these procedure in sequnce.\n",
        "\n",
        "\n",
        "1.   Data Preparation. Doing this to know what the SEED-IV is like.\n",
        "2.   SVM classification. This model is easy, at least we can get the passed mark.\n",
        "3.   CNN classificaiton. This modle is hard, we can do it if time allows.\n",
        "4.   K Means. We are curious what if we use non labeled network?\n",
        "4.   Other morden networks. This is hard because we need to find the mordern and special networks. I do not think this is plausible.\n",
        "## Abbreviations\n",
        "PSD: Power Spectral Density.\n",
        "PCA: Principal Component Analysis.\n",
        "PSD: Power Spectral Density.\n",
        "DE: Differential Entropy.\n",
        "\n",
        "\n",
        "\n"
      ],
      "metadata": {
        "id": "sHpgG6LBoX-C"
      }
    },
    {
      "cell_type": "markdown",
      "source": [
        "# Data Preparation\n",
        "\"I will show how the data is.\".\n",
        "## File overview by heirachy\n",
        "1.   **eeg_feature_smooth**. The smooth data of EGG.\n",
        "Including three sessions, each session has 15 subjects,\n",
        "2.   **eeg_raw_data**. Raw EGG data which has 1000 Hz sampling rate using the ESI NeuroScan System.\n",
        "3.   **eye_feature_smooth**.\n",
        "4.   **eye_raw_data**. Raw eye data which captured by SMI ETG eye-tracking glasses.\n",
        "5.   **Channel Order.xlsx**. The EGG electrod name and order in eeg_feature_smooth & eeg_raw_data.\n",
        "6.   **channel_62_pos**. The 62 EGG channels on the head location. The specific data and head location map does not show.\n",
        "7.   **ReadMe.txt**. Introduction of the dataset, including copyright, sample gender, label, reference and contact information.\n",
        "8.   **SEED-IV_stimulation.xlsx**. The video stimulation of the people, which contains video clip of three experiments.\n",
        "9.   **SEED-IV_subject_info.txt**. The subject gengder, including nine female and six male.\n",
        "\n",
        "\n",
        "\n"
      ],
      "metadata": {
        "id": "klb5GWwFwBq3"
      }
    }
  ]
}